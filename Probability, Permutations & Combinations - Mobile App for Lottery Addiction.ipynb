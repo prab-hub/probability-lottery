{
 "cells": [
  {
   "cell_type": "markdown",
   "id": "c41f2265",
   "metadata": {},
   "source": [
    "# Mobile App for Lottery Addiction\n",
    "\n",
    "In this project, we are going to contribute to the development of a mobile app by writing a couple of functions that are mostly focused on calculating probabilities. The app is aimed to both prevent and treat lottery addiction by helping people better estimate their chances of winning.\n",
    "\n",
    "The app idea comes from a medical institute which is specialized in treating gambling addictions. The institute already has a team of engineers that will build the app, but they need us to create the logical core of the app and calculate probabilities. For the first version of the app, they want us to focus on the 6/49 lottery and build functions that can answer users the following questions:\n",
    "\n",
    "1. What is the probability of winning the big prize with a single ticket?\n",
    "2. What is the probability of winning the big prize if we play 40 different tickets (or any other number)?\n",
    "3. What is the probability of having at least five (or four, or three) winning numbers on a single ticket?\n",
    "\n",
    "The dataset for project is downloaded from [Kaggle](https://www.kaggle.com/datascienceai/lottery-dataset).\n"
   ]
  },
  {
   "cell_type": "markdown",
   "id": "c83ad1ef",
   "metadata": {},
   "source": [
    "# Core Functions\n",
    "\n",
    "In this project, we will repeatadly use factorial and combinations. Therefore we are defining those functions this early in project."
   ]
  },
  {
   "cell_type": "code",
   "execution_count": 14,
   "id": "da597e24",
   "metadata": {},
   "outputs": [],
   "source": [
    "def factorial(n):\n",
    "    final = 1\n",
    "    for i in range(n ,0, -1):\n",
    "        final *= i\n",
    "    return final\n",
    "\n",
    "def combination(n, k):\n",
    "    numerator = factorial(n)\n",
    "    denominator = factorial(k) * factorial(n-k)\n",
    "    return numerator/denominator"
   ]
  },
  {
   "cell_type": "markdown",
   "id": "dd82ee95",
   "metadata": {},
   "source": [
    "# One-ticket Probability\n",
    "\n",
    "In the 6/49 lottery, six numbers are drawn from a set of 49 numbers that range from 1 to 49. A player wins the big prize if the six numbers on their tickets match all the six numbers drawn. If a player has a ticket with the numbers {13, 22, 24, 27, 42, 44}, he only wins the big prize if the numbers drawn are {13, 22, 24, 27, 42, 44}. If only one number differs, he doesn't win.\n",
    "\n",
    "For the first version of the app, we want players to be able to calculate the probability of winning the big prize with the various numbers they play on a single ticket (for each ticket a player chooses six numbers out of 49). So, we'll start by building a function that calculates the probability of winning the big prize for any given ticket.\n",
    "\n",
    "Here are some details when we need to follow while writing the function:\n",
    "\n",
    "1. Inside the app, the user inputs six different numbers from 1 to 49.\n",
    "2. Under the hood, the six numbers will come as a Python list, which will serve as the single input to our function.\n",
    "3. The function to print the probability value should be in a friendly way — in a way that people without any probability training are able to understand."
   ]
  },
  {
   "cell_type": "code",
   "execution_count": 15,
   "id": "5ee2ca11",
   "metadata": {},
   "outputs": [],
   "source": [
    "def one_ticket_probability(user_numbers):\n",
    "    \n",
    "    n_combinations = combination(49, 6)\n",
    "    probability_one_ticket = 1/n_combinations\n",
    "    percentage_form = probability_one_ticket * 100\n",
    "    \n",
    "    print('''Your chances to win the big prize with the numbers {} are {:.7f}%.\n",
    "    In other words, you have a 1 in {:,} chances to win.'''.format(user_numbers,\n",
    "                    percentage_form, int(n_combinations)))"
   ]
  },
  {
   "cell_type": "markdown",
   "id": "0769ed37",
   "metadata": {},
   "source": [
    "Now let's test our function a bit."
   ]
  },
  {
   "cell_type": "code",
   "execution_count": 16,
   "id": "04708209",
   "metadata": {
    "scrolled": true
   },
   "outputs": [
    {
     "name": "stdout",
     "output_type": "stream",
     "text": [
      "Your chances to win the big prize with the numbers [31, 49, 12, 3, 1, 5] are 0.0000072%.\n",
      "    In other words, you have a 1 in 13,983,816 chances to win.\n"
     ]
    }
   ],
   "source": [
    "test_input_1 = [31, 49, 12, 3, 1, 5]\n",
    "one_ticket_probability(test_input_1)"
   ]
  },
  {
   "cell_type": "code",
   "execution_count": 17,
   "id": "3beb2b83",
   "metadata": {},
   "outputs": [
    {
     "name": "stdout",
     "output_type": "stream",
     "text": [
      "Your chances to win the big prize with the numbers [1, 2, 3, 4, 5, 6] are 0.0000072%.\n",
      "    In other words, you have a 1 in 13,983,816 chances to win.\n"
     ]
    }
   ],
   "source": [
    "test_input_1 = [1, 2, 3, 4, 5, 6]\n",
    "one_ticket_probability(test_input_1)"
   ]
  },
  {
   "cell_type": "markdown",
   "id": "00dbf3cf",
   "metadata": {},
   "source": [
    "# Historical Data Check for Canada Lottery\n",
    "\n",
    "For the first version of the app, users should also be able to compare their ticket against the historical lottery data in Canada and determine whether they would have ever won by now.\n",
    "\n",
    "On this screen, we'll focus on exploring the historical data coming from the Canada 6/49 lottery. The data set can be downloaded from [Kaggle.](https://www.kaggle.com/datascienceai/lottery-dataset)"
   ]
  },
  {
   "cell_type": "code",
   "execution_count": 18,
   "id": "2e02c834",
   "metadata": {},
   "outputs": [
    {
     "data": {
      "text/html": [
       "<div>\n",
       "<style scoped>\n",
       "    .dataframe tbody tr th:only-of-type {\n",
       "        vertical-align: middle;\n",
       "    }\n",
       "\n",
       "    .dataframe tbody tr th {\n",
       "        vertical-align: top;\n",
       "    }\n",
       "\n",
       "    .dataframe thead th {\n",
       "        text-align: right;\n",
       "    }\n",
       "</style>\n",
       "<table border=\"1\" class=\"dataframe\">\n",
       "  <thead>\n",
       "    <tr style=\"text-align: right;\">\n",
       "      <th></th>\n",
       "      <th>PRODUCT</th>\n",
       "      <th>DRAW NUMBER</th>\n",
       "      <th>SEQUENCE NUMBER</th>\n",
       "      <th>DRAW DATE</th>\n",
       "      <th>NUMBER DRAWN 1</th>\n",
       "      <th>NUMBER DRAWN 2</th>\n",
       "      <th>NUMBER DRAWN 3</th>\n",
       "      <th>NUMBER DRAWN 4</th>\n",
       "      <th>NUMBER DRAWN 5</th>\n",
       "      <th>NUMBER DRAWN 6</th>\n",
       "      <th>BONUS NUMBER</th>\n",
       "    </tr>\n",
       "  </thead>\n",
       "  <tbody>\n",
       "    <tr>\n",
       "      <th>0</th>\n",
       "      <td>649</td>\n",
       "      <td>1</td>\n",
       "      <td>0</td>\n",
       "      <td>6/12/1982</td>\n",
       "      <td>3</td>\n",
       "      <td>11</td>\n",
       "      <td>12</td>\n",
       "      <td>14</td>\n",
       "      <td>41</td>\n",
       "      <td>43</td>\n",
       "      <td>13</td>\n",
       "    </tr>\n",
       "    <tr>\n",
       "      <th>1</th>\n",
       "      <td>649</td>\n",
       "      <td>2</td>\n",
       "      <td>0</td>\n",
       "      <td>6/19/1982</td>\n",
       "      <td>8</td>\n",
       "      <td>33</td>\n",
       "      <td>36</td>\n",
       "      <td>37</td>\n",
       "      <td>39</td>\n",
       "      <td>41</td>\n",
       "      <td>9</td>\n",
       "    </tr>\n",
       "    <tr>\n",
       "      <th>2</th>\n",
       "      <td>649</td>\n",
       "      <td>3</td>\n",
       "      <td>0</td>\n",
       "      <td>6/26/1982</td>\n",
       "      <td>1</td>\n",
       "      <td>6</td>\n",
       "      <td>23</td>\n",
       "      <td>24</td>\n",
       "      <td>27</td>\n",
       "      <td>39</td>\n",
       "      <td>34</td>\n",
       "    </tr>\n",
       "    <tr>\n",
       "      <th>3</th>\n",
       "      <td>649</td>\n",
       "      <td>4</td>\n",
       "      <td>0</td>\n",
       "      <td>7/3/1982</td>\n",
       "      <td>3</td>\n",
       "      <td>9</td>\n",
       "      <td>10</td>\n",
       "      <td>13</td>\n",
       "      <td>20</td>\n",
       "      <td>43</td>\n",
       "      <td>34</td>\n",
       "    </tr>\n",
       "    <tr>\n",
       "      <th>4</th>\n",
       "      <td>649</td>\n",
       "      <td>5</td>\n",
       "      <td>0</td>\n",
       "      <td>7/10/1982</td>\n",
       "      <td>5</td>\n",
       "      <td>14</td>\n",
       "      <td>21</td>\n",
       "      <td>31</td>\n",
       "      <td>34</td>\n",
       "      <td>47</td>\n",
       "      <td>45</td>\n",
       "    </tr>\n",
       "  </tbody>\n",
       "</table>\n",
       "</div>"
      ],
      "text/plain": [
       "   PRODUCT  DRAW NUMBER  SEQUENCE NUMBER  DRAW DATE  NUMBER DRAWN 1  \\\n",
       "0      649            1                0  6/12/1982               3   \n",
       "1      649            2                0  6/19/1982               8   \n",
       "2      649            3                0  6/26/1982               1   \n",
       "3      649            4                0   7/3/1982               3   \n",
       "4      649            5                0  7/10/1982               5   \n",
       "\n",
       "   NUMBER DRAWN 2  NUMBER DRAWN 3  NUMBER DRAWN 4  NUMBER DRAWN 5  \\\n",
       "0              11              12              14              41   \n",
       "1              33              36              37              39   \n",
       "2               6              23              24              27   \n",
       "3               9              10              13              20   \n",
       "4              14              21              31              34   \n",
       "\n",
       "   NUMBER DRAWN 6  BONUS NUMBER  \n",
       "0              43            13  \n",
       "1              41             9  \n",
       "2              39            34  \n",
       "3              43            34  \n",
       "4              47            45  "
      ]
     },
     "execution_count": 18,
     "metadata": {},
     "output_type": "execute_result"
    }
   ],
   "source": [
    "import pandas as pd\n",
    "lottery_canada = pd.read_csv(\"C:/Users/Linus/Documents/Sheets/649.csv\")\n",
    "lottery_canada.head()"
   ]
  },
  {
   "cell_type": "code",
   "execution_count": 19,
   "id": "39b676bc",
   "metadata": {},
   "outputs": [
    {
     "name": "stdout",
     "output_type": "stream",
     "text": [
      "(3665, 11)\n",
      "<class 'pandas.core.frame.DataFrame'>\n",
      "RangeIndex: 3665 entries, 0 to 3664\n",
      "Data columns (total 11 columns):\n",
      " #   Column           Non-Null Count  Dtype \n",
      "---  ------           --------------  ----- \n",
      " 0   PRODUCT          3665 non-null   int64 \n",
      " 1   DRAW NUMBER      3665 non-null   int64 \n",
      " 2   SEQUENCE NUMBER  3665 non-null   int64 \n",
      " 3   DRAW DATE        3665 non-null   object\n",
      " 4   NUMBER DRAWN 1   3665 non-null   int64 \n",
      " 5   NUMBER DRAWN 2   3665 non-null   int64 \n",
      " 6   NUMBER DRAWN 3   3665 non-null   int64 \n",
      " 7   NUMBER DRAWN 4   3665 non-null   int64 \n",
      " 8   NUMBER DRAWN 5   3665 non-null   int64 \n",
      " 9   NUMBER DRAWN 6   3665 non-null   int64 \n",
      " 10  BONUS NUMBER     3665 non-null   int64 \n",
      "dtypes: int64(10), object(1)\n",
      "memory usage: 315.1+ KB\n",
      "None\n"
     ]
    }
   ],
   "source": [
    "print(lottery_canada.shape)\n",
    "print(lottery_canada.info())"
   ]
  },
  {
   "cell_type": "markdown",
   "id": "e94d776a",
   "metadata": {},
   "source": [
    "# Function for Historical Data Check\n",
    "\n",
    "We need to be aware of the following details:\n",
    "\n",
    "1. Inside the app, the user inputs six different numbers from 1 to 49.\n",
    "2. Under the hood, the six numbers will come as a Python list and serve as an input to our function.\n",
    "\n",
    "We should write a function that prints:\n",
    "\n",
    "1. Number of times the combination selected occurred in the Canada data set\n",
    "2. Probability of winning the big prize in the next drawing with that combination.\n",
    "\n",
    "We'll now start working on writing this function. "
   ]
  },
  {
   "cell_type": "code",
   "execution_count": 21,
   "id": "e2f1cdaf",
   "metadata": {},
   "outputs": [
    {
     "data": {
      "text/plain": [
       "0    {3, 41, 11, 12, 43, 14}\n",
       "1    {33, 36, 37, 39, 8, 41}\n",
       "2     {1, 6, 39, 23, 24, 27}\n",
       "3     {3, 9, 10, 43, 13, 20}\n",
       "4    {34, 5, 14, 47, 21, 31}\n",
       "dtype: object"
      ]
     },
     "execution_count": 21,
     "metadata": {},
     "output_type": "execute_result"
    }
   ],
   "source": [
    "def extract_numbers(row):\n",
    "    row = row[4:10]\n",
    "    row = set(row.values)\n",
    "    return row\n",
    "\n",
    "winning_numbers = lottery_canada.apply(extract_numbers, axis=1)\n",
    "winning_numbers.head()"
   ]
  },
  {
   "cell_type": "markdown",
   "id": "6e70077b",
   "metadata": {},
   "source": [
    "Below, we write the `check_historical_occurrence()` function that takes in the user numbers and the historical numbers and prints information with respect to the number of occurrences and the probability of winning in the next drawing."
   ]
  },
  {
   "cell_type": "code",
   "execution_count": 30,
   "id": "583d1b0f",
   "metadata": {},
   "outputs": [],
   "source": [
    "def check_historical_occurrence(user_numbers, historical_numbers):\n",
    "    '''\n",
    "    user_numbers: a Python list\n",
    "    historical numbers: a pandas Series\n",
    "    '''\n",
    "    user_numbers_set = set(user_numbers)\n",
    "    check_occurence = historical_numbers == user_numbers_set\n",
    "    n_occurrences = check_occurence.sum()\n",
    "    \n",
    "    if n_occurrences == 0:\n",
    "        print('''The combination {} has never occured.\n",
    "This doesn't mean it's more likely to occur now. Your chances to win the big prize in the next drawing using the combination {} are 0.0000072%.\n",
    "In other words, you have a 1 in 13,983,816 chances to win.'''.format(user_numbers, user_numbers))\n",
    "        \n",
    "    else:\n",
    "        print('''The number of times combination {} has occured in the past is {}.\n",
    "Your chances to win the big prize in the next drawing using the combination {} are 0.0000072%.\n",
    "In other words, you have a 1 in 13,983,816 chances to win.'''.format(user_numbers, n_occurrences,\n",
    "                                                                            user_numbers))"
   ]
  },
  {
   "cell_type": "code",
   "execution_count": 31,
   "id": "51016f1b",
   "metadata": {},
   "outputs": [
    {
     "name": "stdout",
     "output_type": "stream",
     "text": [
      "The combination [15, 28, 10, 27, 6, 4] has never occured.\n",
      "This doesn't mean it's more likely to occur now. Your chances to win the big prize in the next drawing using the combination [15, 28, 10, 27, 6, 4] are 0.0000072%.\n",
      "In other words, you have a 1 in 13,983,816 chances to win.\n"
     ]
    }
   ],
   "source": [
    "test_input_3 = [15, 28, 10, 27, 6, 4]\n",
    "check_historical_occurrence(test_input_3, winning_numbers)"
   ]
  },
  {
   "cell_type": "code",
   "execution_count": 32,
   "id": "56df7d2c",
   "metadata": {},
   "outputs": [
    {
     "name": "stdout",
     "output_type": "stream",
     "text": [
      "The number of times combination [33, 36, 37, 39, 8, 41] has occured in the past is 1.\n",
      "Your chances to win the big prize in the next drawing using the combination [33, 36, 37, 39, 8, 41] are 0.0000072%.\n",
      "In other words, you have a 1 in 13,983,816 chances to win.\n"
     ]
    }
   ],
   "source": [
    "test_input_4 = [33, 36, 37, 39, 8, 41]\n",
    "check_historical_occurrence(test_input_4, winning_numbers)"
   ]
  },
  {
   "cell_type": "markdown",
   "id": "7834ed86",
   "metadata": {},
   "source": [
    "# Multi-ticket Probability\n",
    "\n",
    "Lottery addicts usually play more than one ticket on a single drawing, thinking that this might increase their chances of winning significantly. Our purpose is to help them better estimate their chances of winning — on this screen, we're going to write a function that will allow the users to calculate the chances of winning for any number of different tickets.\n",
    "\n",
    "We've the following information:\n",
    "\n",
    "1. The user will input the number of different tickets they want to play (without inputting the specific combinations they intend to play).\n",
    "2. Our function will see an integer between 1 and 13,983,816 (the maximum number of different tickets).\n",
    "3. The function should print information about the probability of winning the big prize depending on the number of different tickets played.\n",
    "\n",
    "Let's now start writing this function."
   ]
  },
  {
   "cell_type": "code",
   "execution_count": 38,
   "id": "6939c6be",
   "metadata": {},
   "outputs": [],
   "source": [
    "def multi_ticket_probability(n_tickets):\n",
    "    \n",
    "    n_combinations = combination(49, 6)\n",
    "    \n",
    "    probability = n_tickets/n_combinations\n",
    "    percentage_form = probability * 100\n",
    "    \n",
    "    if n_tickets == 1:\n",
    "        print('''Your chances to win the big prize with one ticket are {:.6f}%.\n",
    "In other words, you have a 1 in {:,} chances to win.'''.format(percentage_form, int(n_combinations)))\n",
    "    \n",
    "    else:\n",
    "        combinations_simplified = round(n_combinations / n_tickets)   \n",
    "        print('''Your chances to win the big prize with {:,} different tickets are {:.6f}%.\n",
    "In other words, you have a 1 in {:,} chances to win.'''.format(n_tickets, percentage_form,\n",
    "                                                               combinations_simplified))"
   ]
  },
  {
   "cell_type": "code",
   "execution_count": 39,
   "id": "ef164143",
   "metadata": {},
   "outputs": [
    {
     "name": "stdout",
     "output_type": "stream",
     "text": [
      "Your chances to win the big prize with one ticket are 0.000007%.\n",
      "In other words, you have a 1 in 13,983,816 chances to win.\n",
      "------------------------\n",
      "Your chances to win the big prize with 10 different tickets are 0.000072%.\n",
      "In other words, you have a 1 in 1,398,382 chances to win.\n",
      "------------------------\n",
      "Your chances to win the big prize with 100 different tickets are 0.000715%.\n",
      "In other words, you have a 1 in 139,838 chances to win.\n",
      "------------------------\n",
      "Your chances to win the big prize with 10,000 different tickets are 0.071511%.\n",
      "In other words, you have a 1 in 1,398 chances to win.\n",
      "------------------------\n",
      "Your chances to win the big prize with 1,000,000 different tickets are 7.151124%.\n",
      "In other words, you have a 1 in 14 chances to win.\n",
      "------------------------\n",
      "Your chances to win the big prize with 6,991,908 different tickets are 50.000000%.\n",
      "In other words, you have a 1 in 2 chances to win.\n",
      "------------------------\n",
      "Your chances to win the big prize with 13,983,816 different tickets are 100.000000%.\n",
      "In other words, you have a 1 in 1 chances to win.\n",
      "------------------------\n"
     ]
    }
   ],
   "source": [
    "test_inputs = [1, 10, 100, 10000, 1000000, 6991908, 13983816]\n",
    "\n",
    "for test_input in test_inputs:\n",
    "    multi_ticket_probability(test_input)\n",
    "    print('------------------------') # output delimiter"
   ]
  },
  {
   "cell_type": "markdown",
   "id": "e7d3eb8e",
   "metadata": {},
   "source": [
    "# Less Winning Numbers\n",
    "\n",
    "In most 6/49 lotteries there are smaller prizes if a player's ticket match two, three, four, or five of the six numbers drawn. As a consequence, the users might be interested in knowing the probability of having two, three, four, or five winning numbers.\n",
    "\n",
    "These are the details we'll need to be aware of:\n",
    "\n",
    "Inside the app, the user inputs six different numbers from 1 to 49; and an integer between 2 and 5 that represents the number of winning numbers expected.\n",
    "\n",
    "Our function prints information about the probability of having the inputted number of winning numbers.\n",
    "\n",
    "This function allows the users to calculate probabilities for two, three, four, or five winning numbers.\n",
    "\n",
    "To calculate the probabilities, we tell the engineering team that the specific combination on the ticket is irrelevant and we only need the integer between 2 and 5 representing the number of winning numbers expected. Consequently, we will write a function named `probability_less_6()` which takes in an integer and prints information about the chances of winning depending on the value of that integer.\n",
    "\n",
    "The function below calculates the probability that a player's ticket matches exactly the given number of winning numbers. If the player wants to find out the probability of having five winning numbers, the function will return the probability of having five winning numbers exactly (no more and no less). The function will not return the probability of having at least five winning numbers."
   ]
  },
  {
   "cell_type": "code",
   "execution_count": 40,
   "id": "38489191",
   "metadata": {},
   "outputs": [],
   "source": [
    "def probability_less_6(n_winning_numbers):\n",
    "    \n",
    "    n_combinations_ticket = combination(6, n_winning_numbers)\n",
    "    n_combinations_remaining = combination(43, 6 - n_winning_numbers)\n",
    "    successful_outcomes = n_combinations_ticket * n_combinations_remaining\n",
    "    \n",
    "    n_combinations_total = combination(49, 6)    \n",
    "    probability = successful_outcomes / n_combinations_total\n",
    "    \n",
    "    probability_percentage = probability * 100    \n",
    "    combinations_simplified = round(n_combinations_total/successful_outcomes)    \n",
    "    print('''Your chances of having {} winning numbers with this ticket are {:.6f}%.\n",
    "In other words, you have a 1 in {:,} chances to win.'''.format(n_winning_numbers, probability_percentage,\n",
    "                                                               int(combinations_simplified)))"
   ]
  },
  {
   "cell_type": "code",
   "execution_count": 41,
   "id": "d02b8022",
   "metadata": {},
   "outputs": [
    {
     "name": "stdout",
     "output_type": "stream",
     "text": [
      "Your chances of having 2 winning numbers with this ticket are 13.237803%.\n",
      "In other words, you have a 1 in 8 chances to win.\n",
      "--------------------------\n",
      "Your chances of having 3 winning numbers with this ticket are 1.765040%.\n",
      "In other words, you have a 1 in 57 chances to win.\n",
      "--------------------------\n",
      "Your chances of having 4 winning numbers with this ticket are 0.096862%.\n",
      "In other words, you have a 1 in 1,032 chances to win.\n",
      "--------------------------\n",
      "Your chances of having 5 winning numbers with this ticket are 0.001845%.\n",
      "In other words, you have a 1 in 54,201 chances to win.\n",
      "--------------------------\n"
     ]
    }
   ],
   "source": [
    "for test_input in [2, 3, 4, 5]:\n",
    "    probability_less_6(test_input)\n",
    "    print('--------------------------') # output delimiter"
   ]
  },
  {
   "cell_type": "markdown",
   "id": "77d1396e",
   "metadata": {},
   "source": [
    "# Conclusion\n",
    "\n",
    "For the first version of the app, we coded four main functions:\n",
    "\n",
    "1. `one_ticket_probability()` — calculates the probability of winning the big prize with a single ticket\n",
    "2. `check_historical_occurrence()` — checks whether a certain combination has occurred in the Canada lottery data set\n",
    "3. `multi_ticket_probability()` — calculates the probability for any number of tickets between 1 and 13,983,816\n",
    "4. `probability_less_6()` — calculates the probability of having two, three, four or five winning numbers exactly"
   ]
  },
  {
   "cell_type": "code",
   "execution_count": null,
   "id": "83c02c9f",
   "metadata": {},
   "outputs": [],
   "source": []
  }
 ],
 "metadata": {
  "kernelspec": {
   "display_name": "Python 3 (ipykernel)",
   "language": "python",
   "name": "python3"
  },
  "language_info": {
   "codemirror_mode": {
    "name": "ipython",
    "version": 3
   },
   "file_extension": ".py",
   "mimetype": "text/x-python",
   "name": "python",
   "nbconvert_exporter": "python",
   "pygments_lexer": "ipython3",
   "version": "3.10.9"
  }
 },
 "nbformat": 4,
 "nbformat_minor": 5
}
